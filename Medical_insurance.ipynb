{
 "cells": [
  {
   "cell_type": "code",
   "execution_count": 1,
   "id": "da7896fe-0b7f-46b9-899e-38e4f99fedce",
   "metadata": {},
   "outputs": [],
   "source": [
    "import numpy as np\n",
    "import pandas as pd\n",
    "import seaborn as sns\n",
    "import matplotlib.pyplot as plt\n",
    "from sklearn.linear_model import LinearRegression\n",
    "from sklearn.model_selection import train_test_split\n",
    "from sklearn.preprocessing import StandardScaler\n",
    "from sklearn.metrics import mean_squared_error, r2_score"
   ]
  },
  {
   "cell_type": "code",
   "execution_count": 4,
   "id": "7e0cb009-8588-49fa-bd29-83e751781ea9",
   "metadata": {},
   "outputs": [],
   "source": [
    "df = pd.read_csv('Medical-Insurance.csv')"
   ]
  },
  {
   "cell_type": "code",
   "execution_count": 5,
   "id": "713d7d0b-a981-467b-9fc3-12998907ce33",
   "metadata": {},
   "outputs": [
    {
     "data": {
      "text/html": [
       "<div>\n",
       "<style scoped>\n",
       "    .dataframe tbody tr th:only-of-type {\n",
       "        vertical-align: middle;\n",
       "    }\n",
       "\n",
       "    .dataframe tbody tr th {\n",
       "        vertical-align: top;\n",
       "    }\n",
       "\n",
       "    .dataframe thead th {\n",
       "        text-align: right;\n",
       "    }\n",
       "</style>\n",
       "<table border=\"1\" class=\"dataframe\">\n",
       "  <thead>\n",
       "    <tr style=\"text-align: right;\">\n",
       "      <th></th>\n",
       "      <th>Age</th>\n",
       "      <th>Gender</th>\n",
       "      <th>Body Mass Index</th>\n",
       "      <th>No. of child</th>\n",
       "      <th>smoke/non-smoker</th>\n",
       "      <th>Region</th>\n",
       "      <th>Insurance Price</th>\n",
       "    </tr>\n",
       "  </thead>\n",
       "  <tbody>\n",
       "    <tr>\n",
       "      <th>0</th>\n",
       "      <td>19</td>\n",
       "      <td>1</td>\n",
       "      <td>27.900</td>\n",
       "      <td>0</td>\n",
       "      <td>1</td>\n",
       "      <td>3</td>\n",
       "      <td>16884.92400</td>\n",
       "    </tr>\n",
       "    <tr>\n",
       "      <th>1</th>\n",
       "      <td>18</td>\n",
       "      <td>2</td>\n",
       "      <td>33.770</td>\n",
       "      <td>1</td>\n",
       "      <td>0</td>\n",
       "      <td>4</td>\n",
       "      <td>1725.55230</td>\n",
       "    </tr>\n",
       "    <tr>\n",
       "      <th>2</th>\n",
       "      <td>28</td>\n",
       "      <td>2</td>\n",
       "      <td>33.000</td>\n",
       "      <td>3</td>\n",
       "      <td>0</td>\n",
       "      <td>4</td>\n",
       "      <td>4449.46200</td>\n",
       "    </tr>\n",
       "    <tr>\n",
       "      <th>3</th>\n",
       "      <td>33</td>\n",
       "      <td>2</td>\n",
       "      <td>22.705</td>\n",
       "      <td>0</td>\n",
       "      <td>0</td>\n",
       "      <td>1</td>\n",
       "      <td>21984.47061</td>\n",
       "    </tr>\n",
       "    <tr>\n",
       "      <th>4</th>\n",
       "      <td>32</td>\n",
       "      <td>2</td>\n",
       "      <td>28.880</td>\n",
       "      <td>0</td>\n",
       "      <td>0</td>\n",
       "      <td>1</td>\n",
       "      <td>3866.85520</td>\n",
       "    </tr>\n",
       "  </tbody>\n",
       "</table>\n",
       "</div>"
      ],
      "text/plain": [
       "  Age  Gender  Body Mass Index  No. of child smoke/non-smoker  Region  \\\n",
       "0  19       1           27.900             0                1       3   \n",
       "1  18       2           33.770             1                0       4   \n",
       "2  28       2           33.000             3                0       4   \n",
       "3  33       2           22.705             0                0       1   \n",
       "4  32       2           28.880             0                0       1   \n",
       "\n",
       "   Insurance Price  \n",
       "0      16884.92400  \n",
       "1       1725.55230  \n",
       "2       4449.46200  \n",
       "3      21984.47061  \n",
       "4       3866.85520  "
      ]
     },
     "execution_count": 5,
     "metadata": {},
     "output_type": "execute_result"
    }
   ],
   "source": [
    "df.head()"
   ]
  },
  {
   "cell_type": "markdown",
   "id": "623bbd20-25ec-4580-aadd-46e9afb34076",
   "metadata": {},
   "source": [
    "### EDA"
   ]
  },
  {
   "cell_type": "code",
   "execution_count": 17,
   "id": "508cd17f-8556-4430-97e5-e91c8bde76c6",
   "metadata": {},
   "outputs": [
    {
     "name": "stdout",
     "output_type": "stream",
     "text": [
      "<class 'pandas.core.frame.DataFrame'>\n",
      "RangeIndex: 2772 entries, 0 to 2771\n",
      "Data columns (total 7 columns):\n",
      " #   Column            Non-Null Count  Dtype  \n",
      "---  ------            --------------  -----  \n",
      " 0   Age               2772 non-null   int32  \n",
      " 1   Gender            2772 non-null   int64  \n",
      " 2   Body Mass Index   2772 non-null   float64\n",
      " 3   No. of child      2772 non-null   int64  \n",
      " 4   smoke/non-smoker  2772 non-null   object \n",
      " 5   Region            2772 non-null   int64  \n",
      " 6   Insurance Price   2772 non-null   float64\n",
      "dtypes: float64(2), int32(1), int64(3), object(1)\n",
      "memory usage: 140.9+ KB\n"
     ]
    }
   ],
   "source": [
    "df.info()"
   ]
  },
  {
   "cell_type": "code",
   "execution_count": 15,
   "id": "7825aeed-fdf2-45d6-a675-fae72c69b38a",
   "metadata": {},
   "outputs": [
    {
     "data": {
      "text/plain": [
       "array(['19', '18', '28', '33', '32', '31', '46', '37', '60', '25', '62',\n",
       "       '23', '56', '27', '52', '30', '34', '59', '63', '55', '22', '26',\n",
       "       '35', '24', '41', '38', '36', '21', '48', '40', '58', '53', '43',\n",
       "       '64', '20', '61', '44', '57', '29', '45', '54', '49', '47', '51',\n",
       "       '42', '50', '39'], dtype=object)"
      ]
     },
     "execution_count": 15,
     "metadata": {},
     "output_type": "execute_result"
    }
   ],
   "source": [
    "df['Age'].unique()"
   ]
  },
  {
   "cell_type": "code",
   "execution_count": 14,
   "id": "3478c2a2-023b-4e61-8819-78328f429fe3",
   "metadata": {},
   "outputs": [],
   "source": [
    "df['Age'] = df['Age'].replace('?','42')"
   ]
  },
  {
   "cell_type": "code",
   "execution_count": 16,
   "id": "f2c92028-6282-40a0-8e61-4c0fd73417e1",
   "metadata": {},
   "outputs": [],
   "source": [
    "df['Age'] = df['Age'].astype(int)"
   ]
  },
  {
   "cell_type": "code",
   "execution_count": 20,
   "id": "9364ba1a-51f8-4060-ba03-0492d341c7ae",
   "metadata": {},
   "outputs": [
    {
     "data": {
      "text/plain": [
       "array(['1', '0', '?'], dtype=object)"
      ]
     },
     "execution_count": 20,
     "metadata": {},
     "output_type": "execute_result"
    }
   ],
   "source": [
    "df['smoke/non-smoker'].unique()"
   ]
  },
  {
   "cell_type": "code",
   "execution_count": 26,
   "id": "13ec0259-c243-4a25-a0dc-cb89eb812676",
   "metadata": {},
   "outputs": [],
   "source": [
    "delete_rows = df[df['smoke/non-smoker'] == '?'].index"
   ]
  },
  {
   "cell_type": "code",
   "execution_count": 27,
   "id": "af20c2f6-fdda-40c7-8426-dd9267cc587a",
   "metadata": {},
   "outputs": [],
   "source": [
    "df.drop(delete_rows, inplace=True)"
   ]
  },
  {
   "cell_type": "code",
   "execution_count": 29,
   "id": "bc39ea03-6373-430f-8cc4-05e2e9e19bf6",
   "metadata": {},
   "outputs": [
    {
     "data": {
      "text/plain": [
       "array(['1', '0'], dtype=object)"
      ]
     },
     "execution_count": 29,
     "metadata": {},
     "output_type": "execute_result"
    }
   ],
   "source": [
    "df['smoke/non-smoker'].unique()"
   ]
  },
  {
   "cell_type": "code",
   "execution_count": 31,
   "id": "0842f893-789f-4ff6-b316-2b0635a8cc52",
   "metadata": {},
   "outputs": [],
   "source": [
    "df['smoke/non-smoker'] = df['smoke/non-smoker'].astype(int)"
   ]
  },
  {
   "cell_type": "code",
   "execution_count": 33,
   "id": "f6a14d24-6147-4b87-b168-6d2fed9e969c",
   "metadata": {},
   "outputs": [
    {
     "name": "stdout",
     "output_type": "stream",
     "text": [
      "<class 'pandas.core.frame.DataFrame'>\n",
      "Index: 2765 entries, 0 to 2771\n",
      "Data columns (total 7 columns):\n",
      " #   Column            Non-Null Count  Dtype  \n",
      "---  ------            --------------  -----  \n",
      " 0   Age               2765 non-null   int32  \n",
      " 1   Gender            2765 non-null   int64  \n",
      " 2   Body Mass Index   2765 non-null   float64\n",
      " 3   No. of child      2765 non-null   int64  \n",
      " 4   smoke/non-smoker  2765 non-null   int32  \n",
      " 5   Region            2765 non-null   int64  \n",
      " 6   Insurance Price   2765 non-null   float64\n",
      "dtypes: float64(2), int32(2), int64(3)\n",
      "memory usage: 151.2 KB\n"
     ]
    }
   ],
   "source": [
    "df.info()"
   ]
  },
  {
   "cell_type": "code",
   "execution_count": 34,
   "id": "d0359866-daa1-409b-a181-7fee462717b0",
   "metadata": {},
   "outputs": [],
   "source": [
    "df.drop(columns = ['Body Mass Index'], axis=1, inplace=True)"
   ]
  },
  {
   "cell_type": "code",
   "execution_count": 36,
   "id": "8482f056-3244-4474-b635-6482927655d4",
   "metadata": {},
   "outputs": [],
   "source": [
    "df.drop(columns = ['No. of child'], axis=1, inplace=True)"
   ]
  },
  {
   "cell_type": "code",
   "execution_count": 37,
   "id": "27c2242b-5b67-4931-ab59-fec60326ef19",
   "metadata": {},
   "outputs": [
    {
     "data": {
      "text/html": [
       "<div>\n",
       "<style scoped>\n",
       "    .dataframe tbody tr th:only-of-type {\n",
       "        vertical-align: middle;\n",
       "    }\n",
       "\n",
       "    .dataframe tbody tr th {\n",
       "        vertical-align: top;\n",
       "    }\n",
       "\n",
       "    .dataframe thead th {\n",
       "        text-align: right;\n",
       "    }\n",
       "</style>\n",
       "<table border=\"1\" class=\"dataframe\">\n",
       "  <thead>\n",
       "    <tr style=\"text-align: right;\">\n",
       "      <th></th>\n",
       "      <th>Age</th>\n",
       "      <th>Gender</th>\n",
       "      <th>smoke/non-smoker</th>\n",
       "      <th>Region</th>\n",
       "      <th>Insurance Price</th>\n",
       "    </tr>\n",
       "  </thead>\n",
       "  <tbody>\n",
       "    <tr>\n",
       "      <th>0</th>\n",
       "      <td>19</td>\n",
       "      <td>1</td>\n",
       "      <td>1</td>\n",
       "      <td>3</td>\n",
       "      <td>16884.92400</td>\n",
       "    </tr>\n",
       "    <tr>\n",
       "      <th>1</th>\n",
       "      <td>18</td>\n",
       "      <td>2</td>\n",
       "      <td>0</td>\n",
       "      <td>4</td>\n",
       "      <td>1725.55230</td>\n",
       "    </tr>\n",
       "    <tr>\n",
       "      <th>2</th>\n",
       "      <td>28</td>\n",
       "      <td>2</td>\n",
       "      <td>0</td>\n",
       "      <td>4</td>\n",
       "      <td>4449.46200</td>\n",
       "    </tr>\n",
       "    <tr>\n",
       "      <th>3</th>\n",
       "      <td>33</td>\n",
       "      <td>2</td>\n",
       "      <td>0</td>\n",
       "      <td>1</td>\n",
       "      <td>21984.47061</td>\n",
       "    </tr>\n",
       "    <tr>\n",
       "      <th>4</th>\n",
       "      <td>32</td>\n",
       "      <td>2</td>\n",
       "      <td>0</td>\n",
       "      <td>1</td>\n",
       "      <td>3866.85520</td>\n",
       "    </tr>\n",
       "  </tbody>\n",
       "</table>\n",
       "</div>"
      ],
      "text/plain": [
       "   Age  Gender  smoke/non-smoker  Region  Insurance Price\n",
       "0   19       1                 1       3      16884.92400\n",
       "1   18       2                 0       4       1725.55230\n",
       "2   28       2                 0       4       4449.46200\n",
       "3   33       2                 0       1      21984.47061\n",
       "4   32       2                 0       1       3866.85520"
      ]
     },
     "execution_count": 37,
     "metadata": {},
     "output_type": "execute_result"
    }
   ],
   "source": [
    "df.head()"
   ]
  },
  {
   "cell_type": "code",
   "execution_count": 39,
   "id": "5e019f3b-0faa-45d1-967e-85ffe0e78291",
   "metadata": {},
   "outputs": [
    {
     "data": {
      "text/plain": [
       "Age                 0\n",
       "Gender              0\n",
       "smoke/non-smoker    0\n",
       "Region              0\n",
       "Insurance Price     0\n",
       "dtype: int64"
      ]
     },
     "execution_count": 39,
     "metadata": {},
     "output_type": "execute_result"
    }
   ],
   "source": [
    "df.isnull().sum()"
   ]
  },
  {
   "cell_type": "markdown",
   "id": "4f4db91b-23d5-4eba-a956-268035b737c1",
   "metadata": {},
   "source": [
    "## Train Test Split"
   ]
  },
  {
   "cell_type": "code",
   "execution_count": 40,
   "id": "9a1f266f-21c4-4d3a-8148-1658f1532e59",
   "metadata": {},
   "outputs": [],
   "source": [
    "X = df.iloc[:, :-1]\n",
    "y = df.iloc[:, -1]"
   ]
  },
  {
   "cell_type": "code",
   "execution_count": 41,
   "id": "158e4b21-3d59-4256-bc16-f2e3e8170c99",
   "metadata": {},
   "outputs": [
    {
     "data": {
      "text/html": [
       "<div>\n",
       "<style scoped>\n",
       "    .dataframe tbody tr th:only-of-type {\n",
       "        vertical-align: middle;\n",
       "    }\n",
       "\n",
       "    .dataframe tbody tr th {\n",
       "        vertical-align: top;\n",
       "    }\n",
       "\n",
       "    .dataframe thead th {\n",
       "        text-align: right;\n",
       "    }\n",
       "</style>\n",
       "<table border=\"1\" class=\"dataframe\">\n",
       "  <thead>\n",
       "    <tr style=\"text-align: right;\">\n",
       "      <th></th>\n",
       "      <th>Age</th>\n",
       "      <th>Gender</th>\n",
       "      <th>smoke/non-smoker</th>\n",
       "      <th>Region</th>\n",
       "    </tr>\n",
       "  </thead>\n",
       "  <tbody>\n",
       "    <tr>\n",
       "      <th>0</th>\n",
       "      <td>19</td>\n",
       "      <td>1</td>\n",
       "      <td>1</td>\n",
       "      <td>3</td>\n",
       "    </tr>\n",
       "    <tr>\n",
       "      <th>1</th>\n",
       "      <td>18</td>\n",
       "      <td>2</td>\n",
       "      <td>0</td>\n",
       "      <td>4</td>\n",
       "    </tr>\n",
       "    <tr>\n",
       "      <th>2</th>\n",
       "      <td>28</td>\n",
       "      <td>2</td>\n",
       "      <td>0</td>\n",
       "      <td>4</td>\n",
       "    </tr>\n",
       "    <tr>\n",
       "      <th>3</th>\n",
       "      <td>33</td>\n",
       "      <td>2</td>\n",
       "      <td>0</td>\n",
       "      <td>1</td>\n",
       "    </tr>\n",
       "    <tr>\n",
       "      <th>4</th>\n",
       "      <td>32</td>\n",
       "      <td>2</td>\n",
       "      <td>0</td>\n",
       "      <td>1</td>\n",
       "    </tr>\n",
       "  </tbody>\n",
       "</table>\n",
       "</div>"
      ],
      "text/plain": [
       "   Age  Gender  smoke/non-smoker  Region\n",
       "0   19       1                 1       3\n",
       "1   18       2                 0       4\n",
       "2   28       2                 0       4\n",
       "3   33       2                 0       1\n",
       "4   32       2                 0       1"
      ]
     },
     "execution_count": 41,
     "metadata": {},
     "output_type": "execute_result"
    }
   ],
   "source": [
    "X.head()"
   ]
  },
  {
   "cell_type": "code",
   "execution_count": 42,
   "id": "f682028c-b3ca-4cf0-8289-6438a78171c8",
   "metadata": {},
   "outputs": [
    {
     "data": {
      "text/plain": [
       "0    16884.92400\n",
       "1     1725.55230\n",
       "2     4449.46200\n",
       "3    21984.47061\n",
       "4     3866.85520\n",
       "Name: Insurance Price, dtype: float64"
      ]
     },
     "execution_count": 42,
     "metadata": {},
     "output_type": "execute_result"
    }
   ],
   "source": [
    "y.head()"
   ]
  },
  {
   "cell_type": "code",
   "execution_count": 43,
   "id": "6e3be7bd-894a-4570-a438-31c6940a8d43",
   "metadata": {},
   "outputs": [],
   "source": [
    "X_train, X_test, y_train, y_test = train_test_split(X,y, test_size=0.20, random_state=42)"
   ]
  },
  {
   "cell_type": "code",
   "execution_count": 47,
   "id": "43445d10-79dc-406b-af44-39d99dc08c69",
   "metadata": {},
   "outputs": [
    {
     "data": {
      "text/html": [
       "<div>\n",
       "<style scoped>\n",
       "    .dataframe tbody tr th:only-of-type {\n",
       "        vertical-align: middle;\n",
       "    }\n",
       "\n",
       "    .dataframe tbody tr th {\n",
       "        vertical-align: top;\n",
       "    }\n",
       "\n",
       "    .dataframe thead th {\n",
       "        text-align: right;\n",
       "    }\n",
       "</style>\n",
       "<table border=\"1\" class=\"dataframe\">\n",
       "  <thead>\n",
       "    <tr style=\"text-align: right;\">\n",
       "      <th></th>\n",
       "      <th>Age</th>\n",
       "      <th>Gender</th>\n",
       "      <th>smoke/non-smoker</th>\n",
       "      <th>Region</th>\n",
       "    </tr>\n",
       "  </thead>\n",
       "  <tbody>\n",
       "    <tr>\n",
       "      <th>1995</th>\n",
       "      <td>30</td>\n",
       "      <td>2</td>\n",
       "      <td>1</td>\n",
       "      <td>3</td>\n",
       "    </tr>\n",
       "    <tr>\n",
       "      <th>1223</th>\n",
       "      <td>20</td>\n",
       "      <td>1</td>\n",
       "      <td>1</td>\n",
       "      <td>4</td>\n",
       "    </tr>\n",
       "    <tr>\n",
       "      <th>1392</th>\n",
       "      <td>46</td>\n",
       "      <td>1</td>\n",
       "      <td>0</td>\n",
       "      <td>4</td>\n",
       "    </tr>\n",
       "    <tr>\n",
       "      <th>2569</th>\n",
       "      <td>48</td>\n",
       "      <td>1</td>\n",
       "      <td>0</td>\n",
       "      <td>2</td>\n",
       "    </tr>\n",
       "    <tr>\n",
       "      <th>1341</th>\n",
       "      <td>19</td>\n",
       "      <td>2</td>\n",
       "      <td>0</td>\n",
       "      <td>3</td>\n",
       "    </tr>\n",
       "    <tr>\n",
       "      <th>...</th>\n",
       "      <td>...</td>\n",
       "      <td>...</td>\n",
       "      <td>...</td>\n",
       "      <td>...</td>\n",
       "    </tr>\n",
       "    <tr>\n",
       "      <th>2337</th>\n",
       "      <td>51</td>\n",
       "      <td>2</td>\n",
       "      <td>1</td>\n",
       "      <td>4</td>\n",
       "    </tr>\n",
       "    <tr>\n",
       "      <th>1701</th>\n",
       "      <td>52</td>\n",
       "      <td>2</td>\n",
       "      <td>0</td>\n",
       "      <td>2</td>\n",
       "    </tr>\n",
       "    <tr>\n",
       "      <th>103</th>\n",
       "      <td>61</td>\n",
       "      <td>1</td>\n",
       "      <td>1</td>\n",
       "      <td>4</td>\n",
       "    </tr>\n",
       "    <tr>\n",
       "      <th>321</th>\n",
       "      <td>26</td>\n",
       "      <td>1</td>\n",
       "      <td>0</td>\n",
       "      <td>2</td>\n",
       "    </tr>\n",
       "    <tr>\n",
       "      <th>1594</th>\n",
       "      <td>63</td>\n",
       "      <td>1</td>\n",
       "      <td>0</td>\n",
       "      <td>3</td>\n",
       "    </tr>\n",
       "  </tbody>\n",
       "</table>\n",
       "<p>553 rows × 4 columns</p>\n",
       "</div>"
      ],
      "text/plain": [
       "      Age  Gender  smoke/non-smoker  Region\n",
       "1995   30       2                 1       3\n",
       "1223   20       1                 1       4\n",
       "1392   46       1                 0       4\n",
       "2569   48       1                 0       2\n",
       "1341   19       2                 0       3\n",
       "...   ...     ...               ...     ...\n",
       "2337   51       2                 1       4\n",
       "1701   52       2                 0       2\n",
       "103    61       1                 1       4\n",
       "321    26       1                 0       2\n",
       "1594   63       1                 0       3\n",
       "\n",
       "[553 rows x 4 columns]"
      ]
     },
     "execution_count": 47,
     "metadata": {},
     "output_type": "execute_result"
    }
   ],
   "source": [
    "X_test"
   ]
  },
  {
   "cell_type": "markdown",
   "id": "f2509a1a-7a34-43a8-b5d9-9a6e6ca49a80",
   "metadata": {},
   "source": [
    "## Feature Scaling"
   ]
  },
  {
   "cell_type": "code",
   "execution_count": 48,
   "id": "59ce55be-4024-4377-8db2-36bb2e61f974",
   "metadata": {},
   "outputs": [],
   "source": [
    "scaler = StandardScaler()"
   ]
  },
  {
   "cell_type": "code",
   "execution_count": 49,
   "id": "a5247fc2-70b4-4dc6-b8a3-0ae91bacc20a",
   "metadata": {},
   "outputs": [],
   "source": [
    "X_train_scaled = scaler.fit_transform(X_train)"
   ]
  },
  {
   "cell_type": "code",
   "execution_count": 50,
   "id": "e5912765-8c68-4bb2-81a3-4ab95a8484bb",
   "metadata": {},
   "outputs": [
    {
     "data": {
      "text/plain": [
       "array([[ 0.99783225,  0.97587854, -0.5088852 ,  1.27785004],\n",
       "       [-0.86158933,  0.97587854, -0.5088852 ,  1.27785004],\n",
       "       [ 0.64025117, -1.02471769, -0.5088852 , -0.49154232],\n",
       "       ...,\n",
       "       [-0.93310555, -1.02471769, -0.5088852 , -1.37623849],\n",
       "       [ 1.64147818,  0.97587854,  1.96507976, -1.37623849],\n",
       "       [ 1.2838971 ,  0.97587854, -0.5088852 ,  0.39315386]])"
      ]
     },
     "execution_count": 50,
     "metadata": {},
     "output_type": "execute_result"
    }
   ],
   "source": [
    "X_train_scaled"
   ]
  },
  {
   "cell_type": "code",
   "execution_count": 51,
   "id": "f84c0e47-78db-41f7-8caa-d8f10fb2d238",
   "metadata": {},
   "outputs": [],
   "source": [
    "X_test_scaled = scaler.fit_transform(X_test)"
   ]
  },
  {
   "cell_type": "code",
   "execution_count": 52,
   "id": "61635fc4-b3ae-418d-9dbe-11d800433cef",
   "metadata": {},
   "outputs": [
    {
     "data": {
      "text/plain": [
       "array([[-0.65160483,  1.02379107,  2.01826522,  0.37112258],\n",
       "       [-1.34296605, -0.9767618 ,  2.01826522,  1.25573803],\n",
       "       [ 0.45457313, -0.9767618 , -0.49547502,  1.25573803],\n",
       "       ...,\n",
       "       [ 1.49161496, -0.9767618 ,  2.01826522,  1.25573803],\n",
       "       [-0.92814931, -0.9767618 , -0.49547502, -0.51349288],\n",
       "       [ 1.6298872 , -0.9767618 , -0.49547502,  0.37112258]])"
      ]
     },
     "execution_count": 52,
     "metadata": {},
     "output_type": "execute_result"
    }
   ],
   "source": [
    "X_test_scaled"
   ]
  },
  {
   "cell_type": "markdown",
   "id": "f0ef4652-b272-4018-baae-38540d63a662",
   "metadata": {},
   "source": [
    "## Model Building"
   ]
  },
  {
   "cell_type": "code",
   "execution_count": 53,
   "id": "7f598f80-2898-4d51-acb3-fc2d67519aed",
   "metadata": {},
   "outputs": [],
   "source": [
    "model = LinearRegression()"
   ]
  },
  {
   "cell_type": "code",
   "execution_count": 54,
   "id": "3f6d73eb-c771-4c77-99a6-efad286a3c75",
   "metadata": {},
   "outputs": [
    {
     "data": {
      "text/html": [
       "<style>#sk-container-id-1 {\n",
       "  /* Definition of color scheme common for light and dark mode */\n",
       "  --sklearn-color-text: black;\n",
       "  --sklearn-color-line: gray;\n",
       "  /* Definition of color scheme for unfitted estimators */\n",
       "  --sklearn-color-unfitted-level-0: #fff5e6;\n",
       "  --sklearn-color-unfitted-level-1: #f6e4d2;\n",
       "  --sklearn-color-unfitted-level-2: #ffe0b3;\n",
       "  --sklearn-color-unfitted-level-3: chocolate;\n",
       "  /* Definition of color scheme for fitted estimators */\n",
       "  --sklearn-color-fitted-level-0: #f0f8ff;\n",
       "  --sklearn-color-fitted-level-1: #d4ebff;\n",
       "  --sklearn-color-fitted-level-2: #b3dbfd;\n",
       "  --sklearn-color-fitted-level-3: cornflowerblue;\n",
       "\n",
       "  /* Specific color for light theme */\n",
       "  --sklearn-color-text-on-default-background: var(--sg-text-color, var(--theme-code-foreground, var(--jp-content-font-color1, black)));\n",
       "  --sklearn-color-background: var(--sg-background-color, var(--theme-background, var(--jp-layout-color0, white)));\n",
       "  --sklearn-color-border-box: var(--sg-text-color, var(--theme-code-foreground, var(--jp-content-font-color1, black)));\n",
       "  --sklearn-color-icon: #696969;\n",
       "\n",
       "  @media (prefers-color-scheme: dark) {\n",
       "    /* Redefinition of color scheme for dark theme */\n",
       "    --sklearn-color-text-on-default-background: var(--sg-text-color, var(--theme-code-foreground, var(--jp-content-font-color1, white)));\n",
       "    --sklearn-color-background: var(--sg-background-color, var(--theme-background, var(--jp-layout-color0, #111)));\n",
       "    --sklearn-color-border-box: var(--sg-text-color, var(--theme-code-foreground, var(--jp-content-font-color1, white)));\n",
       "    --sklearn-color-icon: #878787;\n",
       "  }\n",
       "}\n",
       "\n",
       "#sk-container-id-1 {\n",
       "  color: var(--sklearn-color-text);\n",
       "}\n",
       "\n",
       "#sk-container-id-1 pre {\n",
       "  padding: 0;\n",
       "}\n",
       "\n",
       "#sk-container-id-1 input.sk-hidden--visually {\n",
       "  border: 0;\n",
       "  clip: rect(1px 1px 1px 1px);\n",
       "  clip: rect(1px, 1px, 1px, 1px);\n",
       "  height: 1px;\n",
       "  margin: -1px;\n",
       "  overflow: hidden;\n",
       "  padding: 0;\n",
       "  position: absolute;\n",
       "  width: 1px;\n",
       "}\n",
       "\n",
       "#sk-container-id-1 div.sk-dashed-wrapped {\n",
       "  border: 1px dashed var(--sklearn-color-line);\n",
       "  margin: 0 0.4em 0.5em 0.4em;\n",
       "  box-sizing: border-box;\n",
       "  padding-bottom: 0.4em;\n",
       "  background-color: var(--sklearn-color-background);\n",
       "}\n",
       "\n",
       "#sk-container-id-1 div.sk-container {\n",
       "  /* jupyter's `normalize.less` sets `[hidden] { display: none; }`\n",
       "     but bootstrap.min.css set `[hidden] { display: none !important; }`\n",
       "     so we also need the `!important` here to be able to override the\n",
       "     default hidden behavior on the sphinx rendered scikit-learn.org.\n",
       "     See: https://github.com/scikit-learn/scikit-learn/issues/21755 */\n",
       "  display: inline-block !important;\n",
       "  position: relative;\n",
       "}\n",
       "\n",
       "#sk-container-id-1 div.sk-text-repr-fallback {\n",
       "  display: none;\n",
       "}\n",
       "\n",
       "div.sk-parallel-item,\n",
       "div.sk-serial,\n",
       "div.sk-item {\n",
       "  /* draw centered vertical line to link estimators */\n",
       "  background-image: linear-gradient(var(--sklearn-color-text-on-default-background), var(--sklearn-color-text-on-default-background));\n",
       "  background-size: 2px 100%;\n",
       "  background-repeat: no-repeat;\n",
       "  background-position: center center;\n",
       "}\n",
       "\n",
       "/* Parallel-specific style estimator block */\n",
       "\n",
       "#sk-container-id-1 div.sk-parallel-item::after {\n",
       "  content: \"\";\n",
       "  width: 100%;\n",
       "  border-bottom: 2px solid var(--sklearn-color-text-on-default-background);\n",
       "  flex-grow: 1;\n",
       "}\n",
       "\n",
       "#sk-container-id-1 div.sk-parallel {\n",
       "  display: flex;\n",
       "  align-items: stretch;\n",
       "  justify-content: center;\n",
       "  background-color: var(--sklearn-color-background);\n",
       "  position: relative;\n",
       "}\n",
       "\n",
       "#sk-container-id-1 div.sk-parallel-item {\n",
       "  display: flex;\n",
       "  flex-direction: column;\n",
       "}\n",
       "\n",
       "#sk-container-id-1 div.sk-parallel-item:first-child::after {\n",
       "  align-self: flex-end;\n",
       "  width: 50%;\n",
       "}\n",
       "\n",
       "#sk-container-id-1 div.sk-parallel-item:last-child::after {\n",
       "  align-self: flex-start;\n",
       "  width: 50%;\n",
       "}\n",
       "\n",
       "#sk-container-id-1 div.sk-parallel-item:only-child::after {\n",
       "  width: 0;\n",
       "}\n",
       "\n",
       "/* Serial-specific style estimator block */\n",
       "\n",
       "#sk-container-id-1 div.sk-serial {\n",
       "  display: flex;\n",
       "  flex-direction: column;\n",
       "  align-items: center;\n",
       "  background-color: var(--sklearn-color-background);\n",
       "  padding-right: 1em;\n",
       "  padding-left: 1em;\n",
       "}\n",
       "\n",
       "\n",
       "/* Toggleable style: style used for estimator/Pipeline/ColumnTransformer box that is\n",
       "clickable and can be expanded/collapsed.\n",
       "- Pipeline and ColumnTransformer use this feature and define the default style\n",
       "- Estimators will overwrite some part of the style using the `sk-estimator` class\n",
       "*/\n",
       "\n",
       "/* Pipeline and ColumnTransformer style (default) */\n",
       "\n",
       "#sk-container-id-1 div.sk-toggleable {\n",
       "  /* Default theme specific background. It is overwritten whether we have a\n",
       "  specific estimator or a Pipeline/ColumnTransformer */\n",
       "  background-color: var(--sklearn-color-background);\n",
       "}\n",
       "\n",
       "/* Toggleable label */\n",
       "#sk-container-id-1 label.sk-toggleable__label {\n",
       "  cursor: pointer;\n",
       "  display: block;\n",
       "  width: 100%;\n",
       "  margin-bottom: 0;\n",
       "  padding: 0.5em;\n",
       "  box-sizing: border-box;\n",
       "  text-align: center;\n",
       "}\n",
       "\n",
       "#sk-container-id-1 label.sk-toggleable__label-arrow:before {\n",
       "  /* Arrow on the left of the label */\n",
       "  content: \"▸\";\n",
       "  float: left;\n",
       "  margin-right: 0.25em;\n",
       "  color: var(--sklearn-color-icon);\n",
       "}\n",
       "\n",
       "#sk-container-id-1 label.sk-toggleable__label-arrow:hover:before {\n",
       "  color: var(--sklearn-color-text);\n",
       "}\n",
       "\n",
       "/* Toggleable content - dropdown */\n",
       "\n",
       "#sk-container-id-1 div.sk-toggleable__content {\n",
       "  max-height: 0;\n",
       "  max-width: 0;\n",
       "  overflow: hidden;\n",
       "  text-align: left;\n",
       "  /* unfitted */\n",
       "  background-color: var(--sklearn-color-unfitted-level-0);\n",
       "}\n",
       "\n",
       "#sk-container-id-1 div.sk-toggleable__content.fitted {\n",
       "  /* fitted */\n",
       "  background-color: var(--sklearn-color-fitted-level-0);\n",
       "}\n",
       "\n",
       "#sk-container-id-1 div.sk-toggleable__content pre {\n",
       "  margin: 0.2em;\n",
       "  border-radius: 0.25em;\n",
       "  color: var(--sklearn-color-text);\n",
       "  /* unfitted */\n",
       "  background-color: var(--sklearn-color-unfitted-level-0);\n",
       "}\n",
       "\n",
       "#sk-container-id-1 div.sk-toggleable__content.fitted pre {\n",
       "  /* unfitted */\n",
       "  background-color: var(--sklearn-color-fitted-level-0);\n",
       "}\n",
       "\n",
       "#sk-container-id-1 input.sk-toggleable__control:checked~div.sk-toggleable__content {\n",
       "  /* Expand drop-down */\n",
       "  max-height: 200px;\n",
       "  max-width: 100%;\n",
       "  overflow: auto;\n",
       "}\n",
       "\n",
       "#sk-container-id-1 input.sk-toggleable__control:checked~label.sk-toggleable__label-arrow:before {\n",
       "  content: \"▾\";\n",
       "}\n",
       "\n",
       "/* Pipeline/ColumnTransformer-specific style */\n",
       "\n",
       "#sk-container-id-1 div.sk-label input.sk-toggleable__control:checked~label.sk-toggleable__label {\n",
       "  color: var(--sklearn-color-text);\n",
       "  background-color: var(--sklearn-color-unfitted-level-2);\n",
       "}\n",
       "\n",
       "#sk-container-id-1 div.sk-label.fitted input.sk-toggleable__control:checked~label.sk-toggleable__label {\n",
       "  background-color: var(--sklearn-color-fitted-level-2);\n",
       "}\n",
       "\n",
       "/* Estimator-specific style */\n",
       "\n",
       "/* Colorize estimator box */\n",
       "#sk-container-id-1 div.sk-estimator input.sk-toggleable__control:checked~label.sk-toggleable__label {\n",
       "  /* unfitted */\n",
       "  background-color: var(--sklearn-color-unfitted-level-2);\n",
       "}\n",
       "\n",
       "#sk-container-id-1 div.sk-estimator.fitted input.sk-toggleable__control:checked~label.sk-toggleable__label {\n",
       "  /* fitted */\n",
       "  background-color: var(--sklearn-color-fitted-level-2);\n",
       "}\n",
       "\n",
       "#sk-container-id-1 div.sk-label label.sk-toggleable__label,\n",
       "#sk-container-id-1 div.sk-label label {\n",
       "  /* The background is the default theme color */\n",
       "  color: var(--sklearn-color-text-on-default-background);\n",
       "}\n",
       "\n",
       "/* On hover, darken the color of the background */\n",
       "#sk-container-id-1 div.sk-label:hover label.sk-toggleable__label {\n",
       "  color: var(--sklearn-color-text);\n",
       "  background-color: var(--sklearn-color-unfitted-level-2);\n",
       "}\n",
       "\n",
       "/* Label box, darken color on hover, fitted */\n",
       "#sk-container-id-1 div.sk-label.fitted:hover label.sk-toggleable__label.fitted {\n",
       "  color: var(--sklearn-color-text);\n",
       "  background-color: var(--sklearn-color-fitted-level-2);\n",
       "}\n",
       "\n",
       "/* Estimator label */\n",
       "\n",
       "#sk-container-id-1 div.sk-label label {\n",
       "  font-family: monospace;\n",
       "  font-weight: bold;\n",
       "  display: inline-block;\n",
       "  line-height: 1.2em;\n",
       "}\n",
       "\n",
       "#sk-container-id-1 div.sk-label-container {\n",
       "  text-align: center;\n",
       "}\n",
       "\n",
       "/* Estimator-specific */\n",
       "#sk-container-id-1 div.sk-estimator {\n",
       "  font-family: monospace;\n",
       "  border: 1px dotted var(--sklearn-color-border-box);\n",
       "  border-radius: 0.25em;\n",
       "  box-sizing: border-box;\n",
       "  margin-bottom: 0.5em;\n",
       "  /* unfitted */\n",
       "  background-color: var(--sklearn-color-unfitted-level-0);\n",
       "}\n",
       "\n",
       "#sk-container-id-1 div.sk-estimator.fitted {\n",
       "  /* fitted */\n",
       "  background-color: var(--sklearn-color-fitted-level-0);\n",
       "}\n",
       "\n",
       "/* on hover */\n",
       "#sk-container-id-1 div.sk-estimator:hover {\n",
       "  /* unfitted */\n",
       "  background-color: var(--sklearn-color-unfitted-level-2);\n",
       "}\n",
       "\n",
       "#sk-container-id-1 div.sk-estimator.fitted:hover {\n",
       "  /* fitted */\n",
       "  background-color: var(--sklearn-color-fitted-level-2);\n",
       "}\n",
       "\n",
       "/* Specification for estimator info (e.g. \"i\" and \"?\") */\n",
       "\n",
       "/* Common style for \"i\" and \"?\" */\n",
       "\n",
       ".sk-estimator-doc-link,\n",
       "a:link.sk-estimator-doc-link,\n",
       "a:visited.sk-estimator-doc-link {\n",
       "  float: right;\n",
       "  font-size: smaller;\n",
       "  line-height: 1em;\n",
       "  font-family: monospace;\n",
       "  background-color: var(--sklearn-color-background);\n",
       "  border-radius: 1em;\n",
       "  height: 1em;\n",
       "  width: 1em;\n",
       "  text-decoration: none !important;\n",
       "  margin-left: 1ex;\n",
       "  /* unfitted */\n",
       "  border: var(--sklearn-color-unfitted-level-1) 1pt solid;\n",
       "  color: var(--sklearn-color-unfitted-level-1);\n",
       "}\n",
       "\n",
       ".sk-estimator-doc-link.fitted,\n",
       "a:link.sk-estimator-doc-link.fitted,\n",
       "a:visited.sk-estimator-doc-link.fitted {\n",
       "  /* fitted */\n",
       "  border: var(--sklearn-color-fitted-level-1) 1pt solid;\n",
       "  color: var(--sklearn-color-fitted-level-1);\n",
       "}\n",
       "\n",
       "/* On hover */\n",
       "div.sk-estimator:hover .sk-estimator-doc-link:hover,\n",
       ".sk-estimator-doc-link:hover,\n",
       "div.sk-label-container:hover .sk-estimator-doc-link:hover,\n",
       ".sk-estimator-doc-link:hover {\n",
       "  /* unfitted */\n",
       "  background-color: var(--sklearn-color-unfitted-level-3);\n",
       "  color: var(--sklearn-color-background);\n",
       "  text-decoration: none;\n",
       "}\n",
       "\n",
       "div.sk-estimator.fitted:hover .sk-estimator-doc-link.fitted:hover,\n",
       ".sk-estimator-doc-link.fitted:hover,\n",
       "div.sk-label-container:hover .sk-estimator-doc-link.fitted:hover,\n",
       ".sk-estimator-doc-link.fitted:hover {\n",
       "  /* fitted */\n",
       "  background-color: var(--sklearn-color-fitted-level-3);\n",
       "  color: var(--sklearn-color-background);\n",
       "  text-decoration: none;\n",
       "}\n",
       "\n",
       "/* Span, style for the box shown on hovering the info icon */\n",
       ".sk-estimator-doc-link span {\n",
       "  display: none;\n",
       "  z-index: 9999;\n",
       "  position: relative;\n",
       "  font-weight: normal;\n",
       "  right: .2ex;\n",
       "  padding: .5ex;\n",
       "  margin: .5ex;\n",
       "  width: min-content;\n",
       "  min-width: 20ex;\n",
       "  max-width: 50ex;\n",
       "  color: var(--sklearn-color-text);\n",
       "  box-shadow: 2pt 2pt 4pt #999;\n",
       "  /* unfitted */\n",
       "  background: var(--sklearn-color-unfitted-level-0);\n",
       "  border: .5pt solid var(--sklearn-color-unfitted-level-3);\n",
       "}\n",
       "\n",
       ".sk-estimator-doc-link.fitted span {\n",
       "  /* fitted */\n",
       "  background: var(--sklearn-color-fitted-level-0);\n",
       "  border: var(--sklearn-color-fitted-level-3);\n",
       "}\n",
       "\n",
       ".sk-estimator-doc-link:hover span {\n",
       "  display: block;\n",
       "}\n",
       "\n",
       "/* \"?\"-specific style due to the `<a>` HTML tag */\n",
       "\n",
       "#sk-container-id-1 a.estimator_doc_link {\n",
       "  float: right;\n",
       "  font-size: 1rem;\n",
       "  line-height: 1em;\n",
       "  font-family: monospace;\n",
       "  background-color: var(--sklearn-color-background);\n",
       "  border-radius: 1rem;\n",
       "  height: 1rem;\n",
       "  width: 1rem;\n",
       "  text-decoration: none;\n",
       "  /* unfitted */\n",
       "  color: var(--sklearn-color-unfitted-level-1);\n",
       "  border: var(--sklearn-color-unfitted-level-1) 1pt solid;\n",
       "}\n",
       "\n",
       "#sk-container-id-1 a.estimator_doc_link.fitted {\n",
       "  /* fitted */\n",
       "  border: var(--sklearn-color-fitted-level-1) 1pt solid;\n",
       "  color: var(--sklearn-color-fitted-level-1);\n",
       "}\n",
       "\n",
       "/* On hover */\n",
       "#sk-container-id-1 a.estimator_doc_link:hover {\n",
       "  /* unfitted */\n",
       "  background-color: var(--sklearn-color-unfitted-level-3);\n",
       "  color: var(--sklearn-color-background);\n",
       "  text-decoration: none;\n",
       "}\n",
       "\n",
       "#sk-container-id-1 a.estimator_doc_link.fitted:hover {\n",
       "  /* fitted */\n",
       "  background-color: var(--sklearn-color-fitted-level-3);\n",
       "}\n",
       "</style><div id=\"sk-container-id-1\" class=\"sk-top-container\"><div class=\"sk-text-repr-fallback\"><pre>LinearRegression()</pre><b>In a Jupyter environment, please rerun this cell to show the HTML representation or trust the notebook. <br />On GitHub, the HTML representation is unable to render, please try loading this page with nbviewer.org.</b></div><div class=\"sk-container\" hidden><div class=\"sk-item\"><div class=\"sk-estimator fitted sk-toggleable\"><input class=\"sk-toggleable__control sk-hidden--visually\" id=\"sk-estimator-id-1\" type=\"checkbox\" checked><label for=\"sk-estimator-id-1\" class=\"sk-toggleable__label fitted sk-toggleable__label-arrow fitted\">&nbsp;&nbsp;LinearRegression<a class=\"sk-estimator-doc-link fitted\" rel=\"noreferrer\" target=\"_blank\" href=\"https://scikit-learn.org/1.5/modules/generated/sklearn.linear_model.LinearRegression.html\">?<span>Documentation for LinearRegression</span></a><span class=\"sk-estimator-doc-link fitted\">i<span>Fitted</span></span></label><div class=\"sk-toggleable__content fitted\"><pre>LinearRegression()</pre></div> </div></div></div></div>"
      ],
      "text/plain": [
       "LinearRegression()"
      ]
     },
     "execution_count": 54,
     "metadata": {},
     "output_type": "execute_result"
    }
   ],
   "source": [
    "model.fit(X_train_scaled, y_train)"
   ]
  },
  {
   "cell_type": "code",
   "execution_count": 55,
   "id": "6038893c-d6cb-481c-a09e-f47f6ca08426",
   "metadata": {},
   "outputs": [],
   "source": [
    "y_pred = model.predict(X_test_scaled)"
   ]
  },
  {
   "cell_type": "code",
   "execution_count": 56,
   "id": "b440879b-ef3d-4692-aa0a-ed2f3d48426e",
   "metadata": {},
   "outputs": [
    {
     "data": {
      "text/plain": [
       "array([30546.00106563, 27954.3235955 , 10453.86728124, 10760.74492658,\n",
       "        3068.61202332, 13352.42239671,  7371.54413806, 38402.98996462,\n",
       "        2903.75602758,  4570.28499843, 10068.01244293, 27194.03109195,\n",
       "        3057.19485025,  6330.18763096, 11685.89342586, 27347.46991462,\n",
       "        3057.19485025, 15318.92740309,  6832.25047708, 15086.51138745,\n",
       "       14779.63374211,  3724.11369211,  3491.69767648,  9847.01360037,\n",
       "       14779.63374211,  8075.69379477,  3749.9273339 , 12378.62590951,\n",
       "        3338.25885381, 12801.71156266, 36594.43934418, 10068.01244293,\n",
       "        8835.98629831,  3057.19485025, 10079.429616  , 12341.39509465,\n",
       "        9154.28111672, 28414.64006351, 37710.25748098,  6678.81165441,\n",
       "        2915.17320065,  7806.04696428, 27347.46991462, 10607.30610391,\n",
       "       11685.89342586, 31227.3163762 , 11183.83057974, 28414.64006351,\n",
       "        2915.17320065,  7218.10531539,  6727.45964233, 13891.71605768,\n",
       "       13071.35839315,  2671.34001195,  6060.54080047, 13610.65205413,\n",
       "        9682.15760463,  6071.95797354, 12611.04192514,  3645.13649915,\n",
       "       12659.68991306,  7113.31448064, 13622.0692272 ,  2903.75602758,\n",
       "        2824.77883461, 30006.70740465,  6071.95797354, 30122.91541247,\n",
       "       11966.95742942,  2836.19600768,  8577.75664089, 32305.90369815,\n",
       "        4289.22099487,  3914.78332963,  2836.19600768,  9693.5747777 ,\n",
       "       31354.94155709, 12236.6042599 , 13738.27723501,  8757.00910535,\n",
       "       12108.97907902,  9577.36676988,  9835.5964273 ,  7229.52248845,\n",
       "        3596.48851123,  6176.74880829, 38751.61398808, 13187.56640097,\n",
       "       39021.26081857,  4521.63701051, 11183.83057974,  6071.95797354,\n",
       "       15037.86339953, 27568.46875719,  7408.77495291, 10116.66043085,\n",
       "       13303.77440879,  4019.57416438, 15075.09421438, 13198.98357404,\n",
       "        5869.87116295, 38238.13396889, 15075.09421438, 12273.83507476,\n",
       "        6832.25047708, 32972.82254002,  5869.87116295, 12648.27273999,\n",
       "        7255.33613024,  6690.22882748, 10221.4512656 , 35822.72966756,\n",
       "        5907.1019778 , 27849.53276075,  4570.28499843, 13431.39958967,\n",
       "        5600.22433246, 13996.50689243,  4442.65981754, 11850.7494216 ,\n",
       "        9142.86394365, 11839.33224853, 10644.53691876,  5881.28833602,\n",
       "       10772.16209965,  4405.42900269,  3057.19485025,  7487.75214587,\n",
       "        2824.77883461,  6611.25163451, 11685.89342586, 34193.43151157,\n",
       "       33886.55386623, 10993.16094222,  2903.75602758, 39702.57612914,\n",
       "        4030.99133745,  8566.33946783, 35938.93767538,  3454.46686162,\n",
       "        5648.87232038,  9565.94959681,  2671.34001195, 12262.41790169,\n",
       "        4675.07583318, 12262.41790169, 28493.61725647, 12801.71156266,\n",
       "       32317.32087122,  4521.63701051, 11723.12424071, 12494.83391732,\n",
       "        4558.86782536,  5484.01632464,  9644.92678978, 13341.00522364,\n",
       "       12352.81226772, 30302.16787692,  7382.96131112, 30546.00106563,\n",
       "       30969.08671878,  9000.84229405,  4981.95347852,  8075.69379477,\n",
       "       15037.86339953,  3068.61202332,  2682.75718501,  5600.22433246,\n",
       "       31471.14956491, 14933.07256478, 15202.71939527,  4521.63701051,\n",
       "        3712.69651904, 10993.16094222,  7218.10531539, 35167.22799877,\n",
       "        9117.05030187, 11992.7710712 ,  3903.36615657, 13701.04642016,\n",
       "       10993.16094222, 10618.72327698,  6690.22882748,  8989.42512098,\n",
       "       36852.6690016 ,  3866.13534171, 13150.33558612,  6832.25047708,\n",
       "       11543.87177626, 10760.74492658, 30688.02271523, 11581.10259111,\n",
       "       28493.61725647, 35927.52050231, 33126.26136269, 39830.20131003,\n",
       "       38740.19681501, 30841.4615379 ,  5379.22548989, 35246.20519174,\n",
       "        4675.07583318,  2903.75602758, 38777.42762986, 38481.96715759,\n",
       "        7382.96131112, 12225.18708684,  3068.61202332,  3375.48966866,\n",
       "       11158.01693795, 13854.48524283,  9682.15760463, 14007.9240655 ,\n",
       "       33665.55502366, 13071.35839315,  9565.94959681, 11311.45576062,\n",
       "        4173.01298705,  2903.75602758,  6690.22882748,  5753.66315513,\n",
       "        3443.04968856,  2671.34001195, 10349.07644649, 36245.81532072,\n",
       "        9038.0731089 , 10465.28445431,  4839.93182892,  5251.60030901,\n",
       "       15037.86339953,  5765.0803282 ,  2824.77883461,  4263.40735309,\n",
       "       10644.53691876,  3645.13649915,  3057.19485025, 14228.92290807,\n",
       "        2915.17320065, 14266.15372292,  4956.13983673,  8603.57028268,\n",
       "       12262.41790169,  6997.10647282,  2915.17320065, 11464.89458329,\n",
       "       13584.83841234,  6188.16598135, 27991.55441035,  6843.66765015,\n",
       "        2836.19600768, 10888.37010747, 38635.40598026,  2682.75718501,\n",
       "        4981.95347852,  9565.94959681,  6446.39563877, 33807.57667326,\n",
       "        2671.34001195, 29044.32809052, 36864.08617466,  5907.1019778 ,\n",
       "        4533.05418358,  3057.19485025,  2915.17320065, 12801.71156266,\n",
       "        4173.01298705, 12775.89792088,  3712.69651904,  6176.74880829,\n",
       "       35504.43484916,  5495.43349771, 27954.3235955 , 13045.54475137,\n",
       "        4791.283841  , 13468.63040453, 36080.95932498, 33654.13785059,\n",
       "       11183.83057974, 10337.65927342,  6880.898465  , 10888.37010747,\n",
       "       14652.00856123,  4173.01298705, 12611.04192514,  3068.61202332,\n",
       "        4723.7238211 , 13843.06806976,  8614.98745574,  5225.78666722,\n",
       "       32152.46487548, 11697.31059893, 10925.60092232, 11966.95742942,\n",
       "        5611.64150553, 27347.46991462,  4442.65981754, 31650.40202936,\n",
       "       10337.65927342,  2903.75602758, 10232.86843867,  2836.19600768,\n",
       "       10723.51411173,  6139.51799344,  5379.22548989, 35515.85202222,\n",
       "       12378.62590951,  2915.17320065,  2836.19600768,  7641.19096854,\n",
       "       10914.18374925, 15037.86339953,  2836.19600768,  9798.36561245,\n",
       "       27579.88593026, 14419.59254559,  2824.77883461, 27347.46991462,\n",
       "       10453.86728124,  9117.05030187,  4570.28499843, 15307.51023002,\n",
       "       13573.42123928, 11004.57811528, 14652.00856123, 11464.89458329,\n",
       "        2682.75718501, 29313.974921  , 14700.65654915,  8498.77944793,\n",
       "       35246.20519174,  5251.60030901,  8768.42627841, 12225.18708684,\n",
       "        3866.13534171, 12506.25109039,  4791.283841  , 14700.65654915,\n",
       "       13341.00522364,  8450.13146001,  2915.17320065,  5881.28833602,\n",
       "        7382.96131112, 12892.1059287 , 32538.31971379, 29197.76691319,\n",
       "        8989.42512098, 37942.67349661,  7382.96131112, 30546.00106563,\n",
       "        6420.58199699, 34732.72517254, 13970.69325065, 13959.27607758,\n",
       "        5263.01748207,  7113.31448064,  5521.24713949,  7689.83895646,\n",
       "       10116.66043085,  3454.46686162, 10453.86728124, 11262.8077727 ,\n",
       "        9259.07195147,  2671.34001195,  9693.5747777 , 15191.3022222 ,\n",
       "        3480.28050341,  9142.86394365,  6678.81165441, 10349.07644649,\n",
       "       12236.6042599 ,  5098.16148634,  2682.75718501, 37133.73300515,\n",
       "       15075.09421438,  2671.34001195,  6023.30998562, 14768.21656905,\n",
       "        9386.69713236,  9914.57362026, 12120.39625209,  2671.34001195,\n",
       "       13726.86006195, 12120.39625209, 36324.79251369, 14393.77890381,\n",
       "       14266.15372292, 11581.10259111, 34848.93318036,  9117.05030187,\n",
       "        4723.7238211 , 12352.81226772,  8229.13261744,  6574.02081966,\n",
       "        9117.05030187,  4993.37065159,  7536.40013379, 13959.27607758,\n",
       "        2903.75602758,  4135.7821722 , 12352.81226772, 11850.7494216 ,\n",
       "       32280.09005637, 10374.89008827,  8064.2766217 ,  9117.05030187,\n",
       "        2903.75602758, 10232.86843867,  8461.54863308, 34886.16399521,\n",
       "       14161.36288817,  5600.22433246,  9693.5747777 , 12506.25109039,\n",
       "       15318.92740309,  8614.98745574, 11183.83057974, 10195.63762382,\n",
       "       15049.2805726 ,  3596.48851123, 36234.39814765,  5341.99467504,\n",
       "        9847.01360037, 12004.18824427, 32422.11170597,  4981.95347852,\n",
       "       34167.61786979,  6457.81281184, 13341.00522364,  7689.83895646,\n",
       "        6716.04246926, 10723.51411173,  3982.34334953, 13161.75275919,\n",
       "       27579.88593026, 12352.81226772, 10502.51526916,  9835.5964273 ,\n",
       "        6188.16598135, 12262.41790169, 12648.27273999, 10655.95409183,\n",
       "       36324.79251369,  4533.05418358, 35541.66566401,  3068.61202332,\n",
       "        4184.43016012, 13341.00522364,  5214.36949415, 31343.52438402,\n",
       "        6292.9568161 , 39200.51328302, 14805.4473839 ,  4454.07699061,\n",
       "        8498.77944793,  4558.86782536, 30148.72905425, 27194.03109195,\n",
       "       33665.55502366, 11030.39175707,  6985.68929975, 13970.69325065,\n",
       "        3068.61202332, 27617.11674511,  5341.99467504, 34976.55836125,\n",
       "       32703.17570953,  8296.69263734,  9386.69713236, 12659.68991306,\n",
       "        2903.75602758,  8308.10981041,  3607.90568429,  8768.42627841,\n",
       "       10491.09809609, 14382.36173074,  7113.31448064, 12764.48074781,\n",
       "        4147.19934527,  6023.30998562, 12929.33674355,  2903.75602758,\n",
       "       34425.84752721, 39021.26081857,  9307.71993939, 10607.30610391,\n",
       "       30006.70740465,  3068.61202332,  4405.42900269,  4405.42900269,\n",
       "       12004.18824427, 11030.39175707, 34976.55836125, 38672.63679511,\n",
       "        6985.68929975, 37391.96266257, 39470.16011351,  9809.78278551,\n",
       "        7101.89730757,  3724.11369211, 33395.90819317, 35246.20519174,\n",
       "       33114.84418962, 36864.08617466,  9105.6331288 ,  9798.36561245,\n",
       "       27194.03109195, 31650.40202936, 11839.33224853, 28647.05607914,\n",
       "        3057.19485025, 13891.71605768,  2671.34001195, 11581.10259111,\n",
       "        8191.90180259,  2671.34001195, 14933.07256478, 38661.21962204,\n",
       "       27579.88593026, 13303.77440879,  8308.10981041, 36852.6690016 ,\n",
       "       10876.9529344 ,  2915.17320065, 11004.57811528,  8731.19546356,\n",
       "       10184.22045075,  7922.2549721 ,  2824.77883461,  6330.18763096,\n",
       "       15318.92740309, 11464.89458329, 13045.54475137, 13150.33558612,\n",
       "        3105.84283817,  2671.34001195,  7948.06861388, 12262.41790169,\n",
       "       10723.51411173,  3633.71932608,  9259.07195147, 35669.29084489,\n",
       "        5251.60030901,  5367.80831682, 11146.59976489, 27415.02993452,\n",
       "       10723.51411173,  3210.63367292, 39316.72129084, 11195.2477528 ,\n",
       "       36324.79251369, 11850.7494216 , 39009.8436455 ,  4828.51465585,\n",
       "       14921.65539171])"
      ]
     },
     "execution_count": 56,
     "metadata": {},
     "output_type": "execute_result"
    }
   ],
   "source": [
    "y_pred"
   ]
  },
  {
   "cell_type": "markdown",
   "id": "6eaba2ec-0eab-412e-9bec-fb7976564d2a",
   "metadata": {},
   "source": [
    "## Model Performance"
   ]
  },
  {
   "cell_type": "code",
   "execution_count": 57,
   "id": "8c956dfb-1b58-4b6b-9ae3-3994214ba91c",
   "metadata": {},
   "outputs": [],
   "source": [
    "mse = mean_squared_error(y_test, y_pred)"
   ]
  },
  {
   "cell_type": "code",
   "execution_count": 58,
   "id": "855c1e81-0e14-4648-b51e-fedb64a2ff20",
   "metadata": {},
   "outputs": [
    {
     "data": {
      "text/plain": [
       "39692339.63558076"
      ]
     },
     "execution_count": 58,
     "metadata": {},
     "output_type": "execute_result"
    }
   ],
   "source": [
    "mse"
   ]
  },
  {
   "cell_type": "code",
   "execution_count": 59,
   "id": "e11c9d35-4a04-4ed2-a86d-4a641eb42d20",
   "metadata": {},
   "outputs": [],
   "source": [
    "accuracy = r2_score(y_test, y_pred)"
   ]
  },
  {
   "cell_type": "code",
   "execution_count": 60,
   "id": "92d63045-f69c-4902-bb99-f59cdb807f1b",
   "metadata": {},
   "outputs": [
    {
     "data": {
      "text/plain": [
       "0.723008920606866"
      ]
     },
     "execution_count": 60,
     "metadata": {},
     "output_type": "execute_result"
    }
   ],
   "source": [
    "accuracy"
   ]
  },
  {
   "cell_type": "code",
   "execution_count": null,
   "id": "344b733b-a3ff-4a5b-978d-b5769b7cf6ba",
   "metadata": {},
   "outputs": [],
   "source": []
  }
 ],
 "metadata": {
  "kernelspec": {
   "display_name": "Python 3 (ipykernel)",
   "language": "python",
   "name": "python3"
  },
  "language_info": {
   "codemirror_mode": {
    "name": "ipython",
    "version": 3
   },
   "file_extension": ".py",
   "mimetype": "text/x-python",
   "name": "python",
   "nbconvert_exporter": "python",
   "pygments_lexer": "ipython3",
   "version": "3.12.7"
  }
 },
 "nbformat": 4,
 "nbformat_minor": 5
}
